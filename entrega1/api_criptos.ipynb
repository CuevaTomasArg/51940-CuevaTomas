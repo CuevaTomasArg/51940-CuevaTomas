{
 "cells": [
  {
   "attachments": {},
   "cell_type": "markdown",
   "metadata": {},
   "source": [
    "# Entrega Nro1 DataEngineer comision cincomil y pico\n",
    "Para esta entrega se utilizara la API de CoinGecko la cual utilizaremos para traer la cotización del token de preferencia del cual desee utilizar la person"
   ]
  },
  {
   "attachments": {},
   "cell_type": "markdown",
   "metadata": {},
   "source": [
    "## Importamos librerias"
   ]
  },
  {
   "cell_type": "code",
   "execution_count": 2,
   "metadata": {
    "tags": []
   },
   "outputs": [],
   "source": [
    "import pandas as pd\n",
    "import requests"
   ]
  },
  {
   "attachments": {},
   "cell_type": "markdown",
   "metadata": {},
   "source": [
    "### Definimos la URL base de la API de CoinGecko"
   ]
  },
  {
   "cell_type": "code",
   "execution_count": 3,
   "metadata": {
    "tags": []
   },
   "outputs": [],
   "source": [
    "base_url = \"https://api.coingecko.com/api/v3\""
   ]
  },
  {
   "attachments": {},
   "cell_type": "markdown",
   "metadata": {},
   "source": [
    "Vamos a traer la información sobre las principales criptomonedas ordenadas por capitalización de mercado en dólares."
   ]
  },
  {
   "cell_type": "code",
   "execution_count": 4,
   "metadata": {
    "tags": []
   },
   "outputs": [],
   "source": [
    "endpoint = \"/coins/markets\"\n",
    "url = base_url + endpoint\n",
    "parameters = {\n",
    "    \"vs_currency\" : \"usd\"\n",
    "}\n",
    "\n",
    "try:\n",
    "    response = requests.get(url, params = parameters)\n",
    "    response.raise_for_status()  # Verificar si la solicitud fue exitosa\n",
    "    data = response.json()\n",
    "except requests.exceptions.RequestException as e:\n",
    "    print(f\"Error al realizar la solicitud:, {e}\")"
   ]
  },
  {
   "attachments": {},
   "cell_type": "markdown",
   "metadata": {},
   "source": [
    "Si la consulta no levantó una excepcion, la trasformamos en un Dataframe para examinar que datos trajo"
   ]
  },
  {
   "cell_type": "code",
   "execution_count": 5,
   "metadata": {
    "tags": []
   },
   "outputs": [],
   "source": [
    "df = pd.DataFrame(data)"
   ]
  },
  {
   "cell_type": "code",
   "execution_count": 6,
   "metadata": {
    "tags": []
   },
   "outputs": [
    {
     "name": "stdout",
     "output_type": "stream",
     "text": [
      "<class 'pandas.core.frame.DataFrame'>\n",
      "RangeIndex: 100 entries, 0 to 99\n",
      "Data columns (total 26 columns):\n",
      " #   Column                            Non-Null Count  Dtype  \n",
      "---  ------                            --------------  -----  \n",
      " 0   id                                100 non-null    object \n",
      " 1   symbol                            100 non-null    object \n",
      " 2   name                              100 non-null    object \n",
      " 3   image                             100 non-null    object \n",
      " 4   current_price                     100 non-null    float64\n",
      " 5   market_cap                        100 non-null    int64  \n",
      " 6   market_cap_rank                   100 non-null    int64  \n",
      " 7   fully_diluted_valuation           94 non-null     float64\n",
      " 8   total_volume                      100 non-null    float64\n",
      " 9   high_24h                          100 non-null    float64\n",
      " 10  low_24h                           100 non-null    float64\n",
      " 11  price_change_24h                  100 non-null    float64\n",
      " 12  price_change_percentage_24h       100 non-null    float64\n",
      " 13  market_cap_change_24h             100 non-null    float64\n",
      " 14  market_cap_change_percentage_24h  100 non-null    float64\n",
      " 15  circulating_supply                100 non-null    float64\n",
      " 16  total_supply                      94 non-null     float64\n",
      " 17  max_supply                        58 non-null     float64\n",
      " 18  ath                               100 non-null    float64\n",
      " 19  ath_change_percentage             100 non-null    float64\n",
      " 20  ath_date                          100 non-null    object \n",
      " 21  atl                               100 non-null    float64\n",
      " 22  atl_change_percentage             100 non-null    float64\n",
      " 23  atl_date                          100 non-null    object \n",
      " 24  roi                               23 non-null     object \n",
      " 25  last_updated                      100 non-null    object \n",
      "dtypes: float64(16), int64(2), object(8)\n",
      "memory usage: 20.4+ KB\n"
     ]
    }
   ],
   "source": [
    "df.info()"
   ]
  },
  {
   "cell_type": "code",
   "execution_count": 7,
   "metadata": {
    "tags": []
   },
   "outputs": [
    {
     "data": {
      "text/html": [
       "<div>\n",
       "<style scoped>\n",
       "    .dataframe tbody tr th:only-of-type {\n",
       "        vertical-align: middle;\n",
       "    }\n",
       "\n",
       "    .dataframe tbody tr th {\n",
       "        vertical-align: top;\n",
       "    }\n",
       "\n",
       "    .dataframe thead th {\n",
       "        text-align: right;\n",
       "    }\n",
       "</style>\n",
       "<table border=\"1\" class=\"dataframe\">\n",
       "  <thead>\n",
       "    <tr style=\"text-align: right;\">\n",
       "      <th></th>\n",
       "      <th>id</th>\n",
       "      <th>symbol</th>\n",
       "      <th>name</th>\n",
       "      <th>image</th>\n",
       "      <th>current_price</th>\n",
       "      <th>market_cap</th>\n",
       "      <th>market_cap_rank</th>\n",
       "      <th>fully_diluted_valuation</th>\n",
       "      <th>total_volume</th>\n",
       "      <th>high_24h</th>\n",
       "      <th>...</th>\n",
       "      <th>total_supply</th>\n",
       "      <th>max_supply</th>\n",
       "      <th>ath</th>\n",
       "      <th>ath_change_percentage</th>\n",
       "      <th>ath_date</th>\n",
       "      <th>atl</th>\n",
       "      <th>atl_change_percentage</th>\n",
       "      <th>atl_date</th>\n",
       "      <th>roi</th>\n",
       "      <th>last_updated</th>\n",
       "    </tr>\n",
       "  </thead>\n",
       "  <tbody>\n",
       "    <tr>\n",
       "      <th>0</th>\n",
       "      <td>bitcoin</td>\n",
       "      <td>btc</td>\n",
       "      <td>Bitcoin</td>\n",
       "      <td>https://assets.coingecko.com/coins/images/1/la...</td>\n",
       "      <td>30702.000000</td>\n",
       "      <td>595711851891</td>\n",
       "      <td>1</td>\n",
       "      <td>6.444883e+11</td>\n",
       "      <td>2.376454e+10</td>\n",
       "      <td>31257.000000</td>\n",
       "      <td>...</td>\n",
       "      <td>2.100000e+07</td>\n",
       "      <td>2.100000e+07</td>\n",
       "      <td>69045.000000</td>\n",
       "      <td>-55.53916</td>\n",
       "      <td>2021-11-10T14:24:11.849Z</td>\n",
       "      <td>67.810000</td>\n",
       "      <td>45171.10948</td>\n",
       "      <td>2013-07-06T00:00:00.000Z</td>\n",
       "      <td>None</td>\n",
       "      <td>2023-06-24T11:54:58.660Z</td>\n",
       "    </tr>\n",
       "    <tr>\n",
       "      <th>1</th>\n",
       "      <td>ethereum</td>\n",
       "      <td>eth</td>\n",
       "      <td>Ethereum</td>\n",
       "      <td>https://assets.coingecko.com/coins/images/279/...</td>\n",
       "      <td>1891.970000</td>\n",
       "      <td>227351289200</td>\n",
       "      <td>2</td>\n",
       "      <td>2.273513e+11</td>\n",
       "      <td>8.916237e+09</td>\n",
       "      <td>1927.170000</td>\n",
       "      <td>...</td>\n",
       "      <td>1.201936e+08</td>\n",
       "      <td>NaN</td>\n",
       "      <td>4878.260000</td>\n",
       "      <td>-61.23019</td>\n",
       "      <td>2021-11-10T14:24:19.604Z</td>\n",
       "      <td>0.432979</td>\n",
       "      <td>436709.39431</td>\n",
       "      <td>2015-10-20T00:00:00.000Z</td>\n",
       "      <td>{'times': 81.41216897378999, 'currency': 'btc'...</td>\n",
       "      <td>2023-06-24T11:54:57.855Z</td>\n",
       "    </tr>\n",
       "    <tr>\n",
       "      <th>2</th>\n",
       "      <td>tether</td>\n",
       "      <td>usdt</td>\n",
       "      <td>Tether</td>\n",
       "      <td>https://assets.coingecko.com/coins/images/325/...</td>\n",
       "      <td>1.001000</td>\n",
       "      <td>83268485535</td>\n",
       "      <td>3</td>\n",
       "      <td>8.326849e+10</td>\n",
       "      <td>2.766914e+10</td>\n",
       "      <td>1.004000</td>\n",
       "      <td>...</td>\n",
       "      <td>8.320202e+10</td>\n",
       "      <td>NaN</td>\n",
       "      <td>1.320000</td>\n",
       "      <td>-24.38494</td>\n",
       "      <td>2018-07-24T00:00:00.000Z</td>\n",
       "      <td>0.572521</td>\n",
       "      <td>74.74630</td>\n",
       "      <td>2015-03-02T00:00:00.000Z</td>\n",
       "      <td>None</td>\n",
       "      <td>2023-06-24T11:55:00.279Z</td>\n",
       "    </tr>\n",
       "    <tr>\n",
       "      <th>3</th>\n",
       "      <td>binancecoin</td>\n",
       "      <td>bnb</td>\n",
       "      <td>BNB</td>\n",
       "      <td>https://assets.coingecko.com/coins/images/825/...</td>\n",
       "      <td>245.210000</td>\n",
       "      <td>38209676138</td>\n",
       "      <td>4</td>\n",
       "      <td>4.903228e+10</td>\n",
       "      <td>6.326575e+08</td>\n",
       "      <td>248.810000</td>\n",
       "      <td>...</td>\n",
       "      <td>1.579002e+08</td>\n",
       "      <td>2.000000e+08</td>\n",
       "      <td>686.310000</td>\n",
       "      <td>-64.28964</td>\n",
       "      <td>2021-05-10T07:24:17.097Z</td>\n",
       "      <td>0.039818</td>\n",
       "      <td>615411.59762</td>\n",
       "      <td>2017-10-19T00:00:00.000Z</td>\n",
       "      <td>None</td>\n",
       "      <td>2023-06-24T11:55:04.857Z</td>\n",
       "    </tr>\n",
       "    <tr>\n",
       "      <th>4</th>\n",
       "      <td>usd-coin</td>\n",
       "      <td>usdc</td>\n",
       "      <td>USD Coin</td>\n",
       "      <td>https://assets.coingecko.com/coins/images/6319...</td>\n",
       "      <td>1.001000</td>\n",
       "      <td>28462399846</td>\n",
       "      <td>5</td>\n",
       "      <td>2.846240e+10</td>\n",
       "      <td>4.963556e+09</td>\n",
       "      <td>1.003000</td>\n",
       "      <td>...</td>\n",
       "      <td>2.845285e+10</td>\n",
       "      <td>NaN</td>\n",
       "      <td>1.170000</td>\n",
       "      <td>-14.76406</td>\n",
       "      <td>2019-05-08T00:40:28.300Z</td>\n",
       "      <td>0.877647</td>\n",
       "      <td>13.89175</td>\n",
       "      <td>2023-03-11T08:02:13.981Z</td>\n",
       "      <td>None</td>\n",
       "      <td>2023-06-24T11:55:04.941Z</td>\n",
       "    </tr>\n",
       "    <tr>\n",
       "      <th>5</th>\n",
       "      <td>ripple</td>\n",
       "      <td>xrp</td>\n",
       "      <td>XRP</td>\n",
       "      <td>https://assets.coingecko.com/coins/images/44/l...</td>\n",
       "      <td>0.492857</td>\n",
       "      <td>25762576101</td>\n",
       "      <td>6</td>\n",
       "      <td>4.930232e+10</td>\n",
       "      <td>7.554169e+08</td>\n",
       "      <td>0.502315</td>\n",
       "      <td>...</td>\n",
       "      <td>9.998866e+10</td>\n",
       "      <td>1.000000e+11</td>\n",
       "      <td>3.400000</td>\n",
       "      <td>-85.50951</td>\n",
       "      <td>2018-01-07T00:00:00.000Z</td>\n",
       "      <td>0.002686</td>\n",
       "      <td>18232.62038</td>\n",
       "      <td>2014-05-22T00:00:00.000Z</td>\n",
       "      <td>None</td>\n",
       "      <td>2023-06-24T11:54:56.112Z</td>\n",
       "    </tr>\n",
       "    <tr>\n",
       "      <th>6</th>\n",
       "      <td>staked-ether</td>\n",
       "      <td>steth</td>\n",
       "      <td>Lido Staked Ether</td>\n",
       "      <td>https://assets.coingecko.com/coins/images/1344...</td>\n",
       "      <td>1891.780000</td>\n",
       "      <td>13975828497</td>\n",
       "      <td>7</td>\n",
       "      <td>1.397596e+10</td>\n",
       "      <td>9.640929e+06</td>\n",
       "      <td>1923.540000</td>\n",
       "      <td>...</td>\n",
       "      <td>7.389170e+06</td>\n",
       "      <td>7.389170e+06</td>\n",
       "      <td>4829.570000</td>\n",
       "      <td>-60.83482</td>\n",
       "      <td>2021-11-10T14:40:47.256Z</td>\n",
       "      <td>482.900000</td>\n",
       "      <td>291.70112</td>\n",
       "      <td>2020-12-22T04:08:21.854Z</td>\n",
       "      <td>None</td>\n",
       "      <td>2023-06-24T11:54:56.935Z</td>\n",
       "    </tr>\n",
       "    <tr>\n",
       "      <th>7</th>\n",
       "      <td>cardano</td>\n",
       "      <td>ada</td>\n",
       "      <td>Cardano</td>\n",
       "      <td>https://assets.coingecko.com/coins/images/975/...</td>\n",
       "      <td>0.295597</td>\n",
       "      <td>10360809530</td>\n",
       "      <td>8</td>\n",
       "      <td>1.330393e+10</td>\n",
       "      <td>2.151196e+08</td>\n",
       "      <td>0.301999</td>\n",
       "      <td>...</td>\n",
       "      <td>4.500000e+10</td>\n",
       "      <td>4.500000e+10</td>\n",
       "      <td>3.090000</td>\n",
       "      <td>-90.42227</td>\n",
       "      <td>2021-09-02T06:00:10.474Z</td>\n",
       "      <td>0.019253</td>\n",
       "      <td>1435.65675</td>\n",
       "      <td>2020-03-13T02:22:55.044Z</td>\n",
       "      <td>None</td>\n",
       "      <td>2023-06-24T11:55:04.105Z</td>\n",
       "    </tr>\n",
       "    <tr>\n",
       "      <th>8</th>\n",
       "      <td>dogecoin</td>\n",
       "      <td>doge</td>\n",
       "      <td>Dogecoin</td>\n",
       "      <td>https://assets.coingecko.com/coins/images/5/la...</td>\n",
       "      <td>0.067930</td>\n",
       "      <td>9503376967</td>\n",
       "      <td>9</td>\n",
       "      <td>9.503386e+09</td>\n",
       "      <td>3.975125e+08</td>\n",
       "      <td>0.069620</td>\n",
       "      <td>...</td>\n",
       "      <td>1.398984e+11</td>\n",
       "      <td>NaN</td>\n",
       "      <td>0.731578</td>\n",
       "      <td>-90.71137</td>\n",
       "      <td>2021-05-08T05:08:23.458Z</td>\n",
       "      <td>0.000087</td>\n",
       "      <td>78094.08195</td>\n",
       "      <td>2015-05-06T00:00:00.000Z</td>\n",
       "      <td>None</td>\n",
       "      <td>2023-06-24T11:54:58.958Z</td>\n",
       "    </tr>\n",
       "    <tr>\n",
       "      <th>9</th>\n",
       "      <td>solana</td>\n",
       "      <td>sol</td>\n",
       "      <td>Solana</td>\n",
       "      <td>https://assets.coingecko.com/coins/images/4128...</td>\n",
       "      <td>17.230000</td>\n",
       "      <td>6889799902</td>\n",
       "      <td>10</td>\n",
       "      <td>9.492780e+09</td>\n",
       "      <td>3.594583e+08</td>\n",
       "      <td>17.520000</td>\n",
       "      <td>...</td>\n",
       "      <td>5.508296e+08</td>\n",
       "      <td>NaN</td>\n",
       "      <td>259.960000</td>\n",
       "      <td>-93.37529</td>\n",
       "      <td>2021-11-06T21:54:35.825Z</td>\n",
       "      <td>0.500801</td>\n",
       "      <td>3338.79896</td>\n",
       "      <td>2020-05-11T19:35:23.449Z</td>\n",
       "      <td>None</td>\n",
       "      <td>2023-06-24T11:54:57.322Z</td>\n",
       "    </tr>\n",
       "  </tbody>\n",
       "</table>\n",
       "<p>10 rows × 26 columns</p>\n",
       "</div>"
      ],
      "text/plain": [
       "             id symbol               name  \\\n",
       "0       bitcoin    btc            Bitcoin   \n",
       "1      ethereum    eth           Ethereum   \n",
       "2        tether   usdt             Tether   \n",
       "3   binancecoin    bnb                BNB   \n",
       "4      usd-coin   usdc           USD Coin   \n",
       "5        ripple    xrp                XRP   \n",
       "6  staked-ether  steth  Lido Staked Ether   \n",
       "7       cardano    ada            Cardano   \n",
       "8      dogecoin   doge           Dogecoin   \n",
       "9        solana    sol             Solana   \n",
       "\n",
       "                                               image  current_price  \\\n",
       "0  https://assets.coingecko.com/coins/images/1/la...   30702.000000   \n",
       "1  https://assets.coingecko.com/coins/images/279/...    1891.970000   \n",
       "2  https://assets.coingecko.com/coins/images/325/...       1.001000   \n",
       "3  https://assets.coingecko.com/coins/images/825/...     245.210000   \n",
       "4  https://assets.coingecko.com/coins/images/6319...       1.001000   \n",
       "5  https://assets.coingecko.com/coins/images/44/l...       0.492857   \n",
       "6  https://assets.coingecko.com/coins/images/1344...    1891.780000   \n",
       "7  https://assets.coingecko.com/coins/images/975/...       0.295597   \n",
       "8  https://assets.coingecko.com/coins/images/5/la...       0.067930   \n",
       "9  https://assets.coingecko.com/coins/images/4128...      17.230000   \n",
       "\n",
       "     market_cap  market_cap_rank  fully_diluted_valuation  total_volume  \\\n",
       "0  595711851891                1             6.444883e+11  2.376454e+10   \n",
       "1  227351289200                2             2.273513e+11  8.916237e+09   \n",
       "2   83268485535                3             8.326849e+10  2.766914e+10   \n",
       "3   38209676138                4             4.903228e+10  6.326575e+08   \n",
       "4   28462399846                5             2.846240e+10  4.963556e+09   \n",
       "5   25762576101                6             4.930232e+10  7.554169e+08   \n",
       "6   13975828497                7             1.397596e+10  9.640929e+06   \n",
       "7   10360809530                8             1.330393e+10  2.151196e+08   \n",
       "8    9503376967                9             9.503386e+09  3.975125e+08   \n",
       "9    6889799902               10             9.492780e+09  3.594583e+08   \n",
       "\n",
       "       high_24h  ...  total_supply    max_supply           ath  \\\n",
       "0  31257.000000  ...  2.100000e+07  2.100000e+07  69045.000000   \n",
       "1   1927.170000  ...  1.201936e+08           NaN   4878.260000   \n",
       "2      1.004000  ...  8.320202e+10           NaN      1.320000   \n",
       "3    248.810000  ...  1.579002e+08  2.000000e+08    686.310000   \n",
       "4      1.003000  ...  2.845285e+10           NaN      1.170000   \n",
       "5      0.502315  ...  9.998866e+10  1.000000e+11      3.400000   \n",
       "6   1923.540000  ...  7.389170e+06  7.389170e+06   4829.570000   \n",
       "7      0.301999  ...  4.500000e+10  4.500000e+10      3.090000   \n",
       "8      0.069620  ...  1.398984e+11           NaN      0.731578   \n",
       "9     17.520000  ...  5.508296e+08           NaN    259.960000   \n",
       "\n",
       "   ath_change_percentage                  ath_date         atl  \\\n",
       "0              -55.53916  2021-11-10T14:24:11.849Z   67.810000   \n",
       "1              -61.23019  2021-11-10T14:24:19.604Z    0.432979   \n",
       "2              -24.38494  2018-07-24T00:00:00.000Z    0.572521   \n",
       "3              -64.28964  2021-05-10T07:24:17.097Z    0.039818   \n",
       "4              -14.76406  2019-05-08T00:40:28.300Z    0.877647   \n",
       "5              -85.50951  2018-01-07T00:00:00.000Z    0.002686   \n",
       "6              -60.83482  2021-11-10T14:40:47.256Z  482.900000   \n",
       "7              -90.42227  2021-09-02T06:00:10.474Z    0.019253   \n",
       "8              -90.71137  2021-05-08T05:08:23.458Z    0.000087   \n",
       "9              -93.37529  2021-11-06T21:54:35.825Z    0.500801   \n",
       "\n",
       "   atl_change_percentage                  atl_date  \\\n",
       "0            45171.10948  2013-07-06T00:00:00.000Z   \n",
       "1           436709.39431  2015-10-20T00:00:00.000Z   \n",
       "2               74.74630  2015-03-02T00:00:00.000Z   \n",
       "3           615411.59762  2017-10-19T00:00:00.000Z   \n",
       "4               13.89175  2023-03-11T08:02:13.981Z   \n",
       "5            18232.62038  2014-05-22T00:00:00.000Z   \n",
       "6              291.70112  2020-12-22T04:08:21.854Z   \n",
       "7             1435.65675  2020-03-13T02:22:55.044Z   \n",
       "8            78094.08195  2015-05-06T00:00:00.000Z   \n",
       "9             3338.79896  2020-05-11T19:35:23.449Z   \n",
       "\n",
       "                                                 roi              last_updated  \n",
       "0                                               None  2023-06-24T11:54:58.660Z  \n",
       "1  {'times': 81.41216897378999, 'currency': 'btc'...  2023-06-24T11:54:57.855Z  \n",
       "2                                               None  2023-06-24T11:55:00.279Z  \n",
       "3                                               None  2023-06-24T11:55:04.857Z  \n",
       "4                                               None  2023-06-24T11:55:04.941Z  \n",
       "5                                               None  2023-06-24T11:54:56.112Z  \n",
       "6                                               None  2023-06-24T11:54:56.935Z  \n",
       "7                                               None  2023-06-24T11:55:04.105Z  \n",
       "8                                               None  2023-06-24T11:54:58.958Z  \n",
       "9                                               None  2023-06-24T11:54:57.322Z  \n",
       "\n",
       "[10 rows x 26 columns]"
      ]
     },
     "execution_count": 7,
     "metadata": {},
     "output_type": "execute_result"
    }
   ],
   "source": [
    "df.head(10)"
   ]
  },
  {
   "attachments": {},
   "cell_type": "markdown",
   "metadata": {},
   "source": [
    "Transformamos los datos y nos quedaremos con las columnas más relevantes"
   ]
  },
  {
   "cell_type": "code",
   "execution_count": 8,
   "metadata": {
    "tags": []
   },
   "outputs": [],
   "source": [
    "selected_columns = [\n",
    "    'id', \n",
    "    'symbol', \n",
    "    'name', \n",
    "    'current_price', \n",
    "    'market_cap', \n",
    "    'market_cap_rank', \n",
    "    'total_volume', \n",
    "    'high_24h',\n",
    "    'low_24h',\n",
    "    'price_change_24h',\n",
    "    'price_change_percentage_24h',\n",
    "    'market_cap_change_24h',\n",
    "    'market_cap_change_percentage_24h',\n",
    "    'circulating_supply',\n",
    "    'ath',\n",
    "    'ath_change_percentage',\n",
    "    'ath_date',\n",
    "    'atl',\n",
    "    'atl_change_percentage',\n",
    "    'atl_date',\n",
    "    'last_updated',\n",
    "]\n",
    "\n",
    "df_coins = df.loc[:, selected_columns]"
   ]
  },
  {
   "attachments": {},
   "cell_type": "markdown",
   "metadata": {},
   "source": [
    "Guardamos los datos"
   ]
  },
  {
   "cell_type": "code",
   "execution_count": 9,
   "metadata": {
    "tags": []
   },
   "outputs": [],
   "source": [
    "df_coins.to_json('./coins.json')"
   ]
  },
  {
   "attachments": {},
   "cell_type": "markdown",
   "metadata": {},
   "source": [
    "Volvemos a traer la información para generar la tabla"
   ]
  },
  {
   "cell_type": "code",
   "execution_count": 10,
   "metadata": {
    "tags": []
   },
   "outputs": [
    {
     "name": "stdout",
     "output_type": "stream",
     "text": [
      "<class 'pandas.core.frame.DataFrame'>\n",
      "RangeIndex: 100 entries, 0 to 99\n",
      "Data columns (total 21 columns):\n",
      " #   Column                            Non-Null Count  Dtype  \n",
      "---  ------                            --------------  -----  \n",
      " 0   id                                100 non-null    object \n",
      " 1   symbol                            100 non-null    object \n",
      " 2   name                              100 non-null    object \n",
      " 3   current_price                     100 non-null    float64\n",
      " 4   market_cap                        100 non-null    int64  \n",
      " 5   market_cap_rank                   100 non-null    int64  \n",
      " 6   total_volume                      100 non-null    float64\n",
      " 7   high_24h                          100 non-null    float64\n",
      " 8   low_24h                           100 non-null    float64\n",
      " 9   price_change_24h                  100 non-null    float64\n",
      " 10  price_change_percentage_24h       100 non-null    float64\n",
      " 11  market_cap_change_24h             100 non-null    float64\n",
      " 12  market_cap_change_percentage_24h  100 non-null    float64\n",
      " 13  circulating_supply                100 non-null    float64\n",
      " 14  ath                               100 non-null    float64\n",
      " 15  ath_change_percentage             100 non-null    float64\n",
      " 16  ath_date                          100 non-null    object \n",
      " 17  atl                               100 non-null    float64\n",
      " 18  atl_change_percentage             100 non-null    float64\n",
      " 19  atl_date                          100 non-null    object \n",
      " 20  last_updated                      100 non-null    object \n",
      "dtypes: float64(13), int64(2), object(6)\n",
      "memory usage: 16.5+ KB\n"
     ]
    }
   ],
   "source": [
    "df_coins.info()"
   ]
  },
  {
   "cell_type": "code",
   "execution_count": 11,
   "metadata": {
    "tags": []
   },
   "outputs": [
    {
     "name": "stdout",
     "output_type": "stream",
     "text": [
      "                    id symbol          name  current_price    market_cap  \\\n",
      "0              bitcoin    btc       Bitcoin   30702.000000  595711851891   \n",
      "1             ethereum    eth      Ethereum    1891.970000  227351289200   \n",
      "2               tether   usdt        Tether       1.001000   83268485535   \n",
      "3          binancecoin    bnb           BNB     245.210000   38209676138   \n",
      "4             usd-coin   usdc      USD Coin       1.001000   28462399846   \n",
      "..                 ...    ...           ...            ...           ...   \n",
      "95              chiliz    chz        Chiliz       0.079540     424761746   \n",
      "96          frax-share    fxs    Frax Share       5.760000     418503363   \n",
      "97                 sui    sui           Sui       0.773805     408986361   \n",
      "98                dash   dash          Dash      35.190000     398293676   \n",
      "99  trust-wallet-token    twt  Trust Wallet       0.935418     389348939   \n",
      "\n",
      "    market_cap_rank  total_volume      high_24h       low_24h  \\\n",
      "0                 1  2.376454e+10  31257.000000  30013.000000   \n",
      "1                 2  8.916237e+09   1927.170000   1869.610000   \n",
      "2                 3  2.766914e+10      1.004000      0.992937   \n",
      "3                 4  6.326575e+08    248.810000    241.540000   \n",
      "4                 5  4.963556e+09      1.003000      0.993232   \n",
      "..              ...           ...           ...           ...   \n",
      "95               96  3.725439e+07      0.080721      0.074535   \n",
      "96               97  1.449425e+07      5.990000      5.730000   \n",
      "97               98  1.003239e+08      0.831098      0.768665   \n",
      "98               99  5.758698e+07     35.500000     33.260000   \n",
      "99              100  9.626189e+06      0.947035      0.922093   \n",
      "\n",
      "    price_change_24h  ...  market_cap_change_24h  \\\n",
      "0         606.410000  ...           1.174511e+10   \n",
      "1          13.320000  ...           1.575728e+09   \n",
      "2           0.000830  ...           7.788076e+07   \n",
      "3           1.400000  ...           2.121425e+08   \n",
      "4           0.000776  ...          -4.725091e+06   \n",
      "..               ...  ...                    ...   \n",
      "95          0.003975  ...           2.081386e+07   \n",
      "96         -0.030810  ...          -1.508466e+06   \n",
      "97         -0.020052  ...          -1.027951e+07   \n",
      "98          1.180000  ...           1.252641e+07   \n",
      "99          0.004657  ...           1.466895e+06   \n",
      "\n",
      "    market_cap_change_percentage_24h  circulating_supply           ath  \\\n",
      "0                            2.01126        1.941067e+07  69045.000000   \n",
      "1                            0.69792        1.201936e+08   4878.260000   \n",
      "2                            0.09362        8.320202e+10      1.320000   \n",
      "3                            0.55831        1.558552e+08    686.310000   \n",
      "4                           -0.01660        2.845285e+10      1.170000   \n",
      "..                               ...                 ...           ...   \n",
      "95                           5.15261        5.344065e+09      0.878633   \n",
      "96                          -0.35915        7.259166e+07     42.800000   \n",
      "97                          -2.45179        5.282737e+08      2.160000   \n",
      "98                           3.24714        1.133538e+07   1493.590000   \n",
      "99                           0.37818        4.166499e+08      2.720000   \n",
      "\n",
      "    ath_change_percentage                  ath_date        atl  \\\n",
      "0               -55.53916  2021-11-10T14:24:11.849Z  67.810000   \n",
      "1               -61.23019  2021-11-10T14:24:19.604Z   0.432979   \n",
      "2               -24.38494  2018-07-24T00:00:00.000Z   0.572521   \n",
      "3               -64.28964  2021-05-10T07:24:17.097Z   0.039818   \n",
      "4               -14.76406  2019-05-08T00:40:28.300Z   0.877647   \n",
      "..                    ...                       ...        ...   \n",
      "95              -90.95690  2021-03-13T08:04:21.200Z   0.004109   \n",
      "96              -86.53356  2022-01-12T15:22:27.465Z   1.500000   \n",
      "97              -64.23721  2023-05-03T12:00:26.430Z   0.557963   \n",
      "98              -97.64707  2017-12-20T00:00:00.000Z   0.213899   \n",
      "99              -65.52897  2022-12-11T23:25:46.205Z   0.002776   \n",
      "\n",
      "    atl_change_percentage                  atl_date              last_updated  \n",
      "0             45171.10948  2013-07-06T00:00:00.000Z  2023-06-24T11:54:58.660Z  \n",
      "1            436709.39431  2015-10-20T00:00:00.000Z  2023-06-24T11:54:57.855Z  \n",
      "2                74.74630  2015-03-02T00:00:00.000Z  2023-06-24T11:55:00.279Z  \n",
      "3            615411.59762  2017-10-19T00:00:00.000Z  2023-06-24T11:55:04.857Z  \n",
      "4                13.89175  2023-03-11T08:02:13.981Z  2023-06-24T11:55:04.941Z  \n",
      "..                    ...                       ...                       ...  \n",
      "95             1833.75889  2019-09-28T00:00:00.000Z  2023-06-24T11:55:03.131Z  \n",
      "96              283.43265  2021-06-25T16:50:51.447Z  2023-06-24T11:54:55.081Z  \n",
      "97               38.60716  2023-06-10T06:00:47.648Z  2023-06-24T11:54:45.171Z  \n",
      "98            16329.80744  2014-02-14T00:00:00.000Z  2023-06-24T11:54:58.874Z  \n",
      "99            33681.92413  2020-06-09T09:15:06.983Z  2023-06-24T11:55:00.927Z  \n",
      "\n",
      "[100 rows x 21 columns]\n"
     ]
    }
   ],
   "source": [
    "print(df_coins)"
   ]
  },
  {
   "attachments": {},
   "cell_type": "markdown",
   "metadata": {},
   "source": [
    "## Ahora vamos a pedir la cotización historica de los ultimos 90 días del top 10 de las criptomonedas con mayor capitalización bursatil"
   ]
  },
  {
   "cell_type": "code",
   "execution_count": 19,
   "metadata": {
    "tags": []
   },
   "outputs": [],
   "source": [
    "serie_ids = df_coins['id'] "
   ]
  },
  {
   "cell_type": "code",
   "execution_count": 20,
   "metadata": {},
   "outputs": [
    {
     "data": {
      "text/plain": [
       "0         bitcoin\n",
       "1        ethereum\n",
       "2          tether\n",
       "3     binancecoin\n",
       "4        usd-coin\n",
       "5          ripple\n",
       "6    staked-ether\n",
       "7         cardano\n",
       "8        dogecoin\n",
       "9          solana\n",
       "Name: id, dtype: object"
      ]
     },
     "execution_count": 20,
     "metadata": {},
     "output_type": "execute_result"
    }
   ],
   "source": [
    "serie_ids = serie_ids.head(10)\n",
    "\n",
    "serie_ids"
   ]
  },
  {
   "attachments": {},
   "cell_type": "markdown",
   "metadata": {
    "tags": []
   },
   "source": [
    "## Definimos una función para traernos la data historica\n",
    "Incluye precio, capitalización de mercado y volumen movido en 24h"
   ]
  },
  {
   "cell_type": "code",
   "execution_count": 21,
   "metadata": {
    "tags": []
   },
   "outputs": [],
   "source": [
    "def get_market_chart(id):\n",
    "    endpoint = f\"/coins/{id}/market_chart\"\n",
    "    url = base_url + endpoint\n",
    "    parameters = {\n",
    "        \"id\" : id,\n",
    "        \"vs_currency\" : \"usd\",\n",
    "        \"days\" : \"max\",\n",
    "        \"interval\" : \"daily\",\n",
    "        \"precision\" : \"3\"\n",
    "    }\n",
    "\n",
    "    try:\n",
    "        \n",
    "        response = requests.get(url, params = parameters)\n",
    "        response.raise_for_status()  # Verificar si la solicitud fue exitosa\n",
    "        data = response.json()\n",
    "        print(\"Solicitud exitosa\")\n",
    "        return data\n",
    "    except requests.exceptions.RequestException as e:\n",
    "        exception = f\"Error al realizar la solicitud:, {e}\" \n",
    "        return exception"
   ]
  },
  {
   "attachments": {},
   "cell_type": "markdown",
   "metadata": {},
   "source": [
    "Hiteramos sobre la serie de Pandas"
   ]
  },
  {
   "cell_type": "code",
   "execution_count": null,
   "metadata": {
    "tags": []
   },
   "outputs": [
    {
     "name": "stdout",
     "output_type": "stream",
     "text": [
      "Solicitud exitosa\n",
      "se agrego .......... <built-in function id>\n",
      "Solicitud exitosa\n",
      "se agrego .......... <built-in function id>\n",
      "Solicitud exitosa\n",
      "se agrego .......... <built-in function id>\n",
      "Solicitud exitosa\n",
      "se agrego .......... <built-in function id>\n",
      "Solicitud exitosa\n",
      "se agrego .......... <built-in function id>\n",
      "Solicitud exitosa\n",
      "se agrego .......... <built-in function id>\n",
      "Solicitud exitosa\n",
      "se agrego .......... <built-in function id>\n",
      "Solicitud exitosa\n",
      "se agrego .......... <built-in function id>\n",
      "Solicitud exitosa\n",
      "se agrego .......... <built-in function id>\n",
      "Solicitud exitosa\n",
      "se agrego .......... <built-in function id>\n"
     ]
    }
   ],
   "source": [
    "historical_per_id = {\n",
    "    \"id\" : [],\n",
    "    \"Historical\" : []\n",
    "}\n",
    "\n",
    "for elem in serie_ids:\n",
    "    historical_per_id['id'].append(elem)\n",
    "    historical_per_id['Historical'].append(get_market_chart(elem))\n",
    "    print(f\"se agrego .......... {id}\")"
   ]
  },
  {
   "cell_type": "code",
   "execution_count": 26,
   "metadata": {
    "tags": []
   },
   "outputs": [],
   "source": [
    "df_historical_coins = pd.DataFrame(historical_per_id)"
   ]
  },
  {
   "cell_type": "code",
   "execution_count": 32,
   "metadata": {},
   "outputs": [],
   "source": [
    "df_historical_coins.to_json('./DB/coins_market_chart.json')"
   ]
  }
 ],
 "metadata": {
  "kernelspec": {
   "display_name": "Python 3 (ipykernel)",
   "language": "python",
   "name": "python3"
  },
  "language_info": {
   "codemirror_mode": {
    "name": "ipython",
    "version": 3
   },
   "file_extension": ".py",
   "mimetype": "text/x-python",
   "name": "python",
   "nbconvert_exporter": "python",
   "pygments_lexer": "ipython3",
   "version": "3.11.4"
  }
 },
 "nbformat": 4,
 "nbformat_minor": 4
}
