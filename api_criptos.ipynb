{
 "cells": [
  {
   "cell_type": "code",
   "execution_count": 3,
   "metadata": {},
   "outputs": [],
   "source": [
    "import pandas as ps\n",
    "import numpy as np"
   ]
  },
  {
   "cell_type": "code",
   "execution_count": 1,
   "metadata": {},
   "outputs": [
    {
     "name": "stdout",
     "output_type": "stream",
     "text": [
      "[{'id': 'bitcoin', 'symbol': 'btc', 'name': 'Bitcoin', 'image': 'https://assets.coingecko.com/coins/images/1/large/bitcoin.png?1547033579', 'current_price': 25975, 'market_cap': 503908756552, 'market_cap_rank': 1, 'fully_diluted_valuation': 545481091363, 'total_volume': 10000754023, 'high_24h': 26021, 'low_24h': 25619, 'price_change_24h': 341.48, 'price_change_percentage_24h': 1.33215, 'market_cap_change_24h': 6144561406, 'market_cap_change_percentage_24h': 1.23443, 'circulating_supply': 19399543.0, 'total_supply': 21000000.0, 'max_supply': 21000000.0, 'ath': 69045, 'ath_change_percentage': -62.34475, 'ath_date': '2021-11-10T14:24:11.849Z', 'atl': 67.81, 'atl_change_percentage': 38241.48996, 'atl_date': '2013-07-06T00:00:00.000Z', 'roi': None, 'last_updated': '2023-06-11T19:10:18.331Z'}]\n"
     ]
    }
   ],
   "source": [
    "import requests\n",
    "\n",
    "# URL base de la API de CoinGecko\n",
    "base_url = \"https://api.coingecko.com/api/v3\"\n",
    "\n",
    "# Endpoint y parámetros de la consulta\n",
    "endpoint = \"/coins/markets\"\n",
    "parameters = {\n",
    "    \"vs_currency\": \"usd\",  # Moneda de comparación (en este caso, dólares)\n",
    "    \"ids\": \"bitcoin\",  # ID de la criptomoneda que deseas obtener (en este caso, Bitcoin)\n",
    "    \"order\": \"market_cap_desc\",  # Ordenar por capitalización de mercado descendente\n",
    "    \"per_page\": 10,  # Cantidad de resultados por página (en este caso, 10)\n",
    "    \"page\": 1  # Número de página (en este caso, 1)\n",
    "}\n",
    "\n",
    "# Construir la URL completa\n",
    "url = base_url + endpoint\n",
    "\n",
    "# Realizar la solicitud GET a la URL con los parámetros\n",
    "response = requests.get(url, params=parameters)\n",
    "\n",
    "# Verificar si la solicitud fue exitosa (código de estado 200)\n",
    "if response.status_code == 200:\n",
    "    data = response.json()  # Obtener los datos de respuesta en formato JSON\n",
    "    # Procesar los datos según tus necesidades\n",
    "    print(data)\n",
    "else:\n",
    "    print(\"La solicitud no fue exitosa. Código de estado:\", response.status_code)\n"
   ]
  },
  {
   "cell_type": "code",
   "execution_count": 2,
   "metadata": {},
   "outputs": [
    {
     "data": {
      "text/plain": [
       "[{'id': 'bitcoin',\n",
       "  'symbol': 'btc',\n",
       "  'name': 'Bitcoin',\n",
       "  'image': 'https://assets.coingecko.com/coins/images/1/large/bitcoin.png?1547033579',\n",
       "  'current_price': 25975,\n",
       "  'market_cap': 503908756552,\n",
       "  'market_cap_rank': 1,\n",
       "  'fully_diluted_valuation': 545481091363,\n",
       "  'total_volume': 10000754023,\n",
       "  'high_24h': 26021,\n",
       "  'low_24h': 25619,\n",
       "  'price_change_24h': 341.48,\n",
       "  'price_change_percentage_24h': 1.33215,\n",
       "  'market_cap_change_24h': 6144561406,\n",
       "  'market_cap_change_percentage_24h': 1.23443,\n",
       "  'circulating_supply': 19399543.0,\n",
       "  'total_supply': 21000000.0,\n",
       "  'max_supply': 21000000.0,\n",
       "  'ath': 69045,\n",
       "  'ath_change_percentage': -62.34475,\n",
       "  'ath_date': '2021-11-10T14:24:11.849Z',\n",
       "  'atl': 67.81,\n",
       "  'atl_change_percentage': 38241.48996,\n",
       "  'atl_date': '2013-07-06T00:00:00.000Z',\n",
       "  'roi': None,\n",
       "  'last_updated': '2023-06-11T19:10:18.331Z'}]"
      ]
     },
     "execution_count": 2,
     "metadata": {},
     "output_type": "execute_result"
    }
   ],
   "source": [
    "data"
   ]
  }
 ],
 "metadata": {
  "kernelspec": {
   "display_name": "Python 3 (ipykernel)",
   "language": "python",
   "name": "python3"
  },
  "language_info": {
   "codemirror_mode": {
    "name": "ipython",
    "version": 3
   },
   "file_extension": ".py",
   "mimetype": "text/x-python",
   "name": "python",
   "nbconvert_exporter": "python",
   "pygments_lexer": "ipython3",
   "version": "3.11.3"
  },
  "orig_nbformat": 4
 },
 "nbformat": 4,
 "nbformat_minor": 2
}
