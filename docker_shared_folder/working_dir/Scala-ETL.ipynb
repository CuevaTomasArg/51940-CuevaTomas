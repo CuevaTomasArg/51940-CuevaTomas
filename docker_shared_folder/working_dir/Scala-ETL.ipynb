{
 "cells": [
  {
   "cell_type": "code",
   "execution_count": 1,
   "id": "ba969fbf-9b34-483b-9ed9-66647fcfc235",
   "metadata": {},
   "outputs": [
    {
     "data": {
      "text/plain": [
       "Intitializing Scala interpreter ..."
      ]
     },
     "metadata": {},
     "output_type": "display_data"
    },
    {
     "data": {
      "text/plain": [
       "Spark Web UI available at http://ea1d64e0d1a0:4040\n",
       "SparkContext available as 'sc' (version = 3.4.0, master = local[*], app id = local-1689067588458)\n",
       "SparkSession available as 'spark'\n"
      ]
     },
     "metadata": {},
     "output_type": "display_data"
    },
    {
     "name": "stdout",
     "output_type": "stream",
     "text": [
      "Hola Scala\n"
     ]
    }
   ],
   "source": [
    "println(\"Hola Scala\")"
   ]
  },
  {
   "cell_type": "code",
   "execution_count": 2,
   "id": "4d1b8936-ef93-453f-95e0-f4e15b294534",
   "metadata": {},
   "outputs": [
    {
     "data": {
      "text/plain": [
       "x: Int = 1\n"
      ]
     },
     "execution_count": 2,
     "metadata": {},
     "output_type": "execute_result"
    }
   ],
   "source": [
    "val x: Int = 1"
   ]
  },
  {
   "cell_type": "code",
   "execution_count": 3,
   "id": "e65b9cfe-a79f-43ff-8a65-a576064ed09d",
   "metadata": {},
   "outputs": [
    {
     "name": "stdout",
     "output_type": "stream",
     "text": [
      "1\n"
     ]
    }
   ],
   "source": [
    "println(x)"
   ]
  },
  {
   "cell_type": "code",
   "execution_count": 4,
   "id": "90eaeddd-0d09-42a1-9123-abe3b9f85eed",
   "metadata": {},
   "outputs": [
    {
     "data": {
      "text/plain": [
       "import org.apache.spark.SparkConf\n",
       "import org.apache.spark.sql.SparkSession\n"
      ]
     },
     "execution_count": 4,
     "metadata": {},
     "output_type": "execute_result"
    }
   ],
   "source": [
    "import org.apache.spark.SparkConf\n",
    "import org.apache.spark.sql.SparkSession\n"
   ]
  },
  {
   "cell_type": "code",
   "execution_count": 5,
   "id": "d416d1fd-f66a-4cd9-8d88-b7ac5ea0bcdf",
   "metadata": {},
   "outputs": [
    {
     "data": {
      "text/plain": [
       "conf: org.apache.spark.SparkConf = org.apache.spark.SparkConf@12450cd4\n",
       "spark: org.apache.spark.sql.SparkSession = org.apache.spark.sql.SparkSession@261f9d58\n"
      ]
     },
     "execution_count": 5,
     "metadata": {},
     "output_type": "execute_result"
    }
   ],
   "source": [
    "// Configuración de Spark\n",
    "val conf = new SparkConf()\n",
    "  .setAppName(\"MiApp\")\n",
    "  .setMaster(\"local[*]\") // Puedes cambiar \"local[*]\" por la URL del clúster Spark\n",
    "\n",
    "// Crear sesión de Spark\n",
    "val spark = SparkSession.builder()\n",
    "  .config(conf)\n",
    "  .getOrCreate()\n"
   ]
  }
 ],
 "metadata": {
  "kernelspec": {
   "display_name": "spylon-kernel",
   "language": "scala",
   "name": "spylon-kernel"
  },
  "language_info": {
   "codemirror_mode": "text/x-scala",
   "file_extension": ".scala",
   "help_links": [
    {
     "text": "MetaKernel Magics",
     "url": "https://metakernel.readthedocs.io/en/latest/source/README.html"
    }
   ],
   "mimetype": "text/x-scala",
   "name": "scala",
   "pygments_lexer": "scala",
   "version": "0.4.1"
  }
 },
 "nbformat": 4,
 "nbformat_minor": 5
}
